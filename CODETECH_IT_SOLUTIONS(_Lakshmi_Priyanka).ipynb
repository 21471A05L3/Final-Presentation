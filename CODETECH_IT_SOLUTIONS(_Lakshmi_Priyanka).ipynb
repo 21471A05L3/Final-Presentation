{
  "nbformat": 4,
  "nbformat_minor": 0,
  "metadata": {
    "colab": {
      "provenance": [],
      "authorship_tag": "ABX9TyOHYdvR+KN868wd9y3bP0k1",
      "include_colab_link": true
    },
    "kernelspec": {
      "name": "python3",
      "display_name": "Python 3"
    },
    "language_info": {
      "name": "python"
    }
  },
  "cells": [
    {
      "cell_type": "markdown",
      "metadata": {
        "id": "view-in-github",
        "colab_type": "text"
      },
      "source": [
        "<a href=\"https://colab.research.google.com/github/21471A05L3/Final-Presentation/blob/main/CODETECH_IT_SOLUTIONS(_Lakshmi_Priyanka).ipynb\" target=\"_parent\"><img src=\"https://colab.research.google.com/assets/colab-badge.svg\" alt=\"Open In Colab\"/></a>"
      ]
    },
    {
      "cell_type": "markdown",
      "source": [
        "# *TASK:1:SIMPLE CALCULATOR*"
      ],
      "metadata": {
        "id": "i_5npMl8nq2_"
      }
    },
    {
      "cell_type": "code",
      "source": [
        " def add(x, y):\n",
        "    return x + y\n",
        " def subtract(x, y):\n",
        "    return x - y\n",
        " def multiply(x, y):\n",
        "    return x * y\n",
        " def divide(x, y):\n",
        "    return x / y\n",
        " print(\"Select operation.\")\n",
        " print(\"1.Add\")\n",
        " print(\"2.Subtract\")\n",
        " print(\"3.Multiply\")\n",
        " print(\"4.Divide\")\n",
        " while True:\n",
        "    choice = input(\"Enter choice(1/2/3/4): \")\n",
        "    if choice in ('1', '2', '3', '4'):\n",
        "        try:\n",
        "            num1 = float(input(\"Enter first number: \"))\n",
        "            num2 = float(input(\"Enter second number: \"))\n",
        "        except ValueError:\n",
        "            print(\"Invalid input. Please enter a number.\")\n",
        "            continue\n",
        "        if choice == '1':\n",
        "            print(num1, \"+\", num2, \"=\", add(num1, num2))\n",
        "        elif choice == '2':\n",
        "            print(num1, \"-\", num2, \"=\", subtract(num1, num2))\n",
        "        elif choice == '3':\n",
        "            print(num1, \"*\", num2, \"=\", multiply(num1, num2))\n",
        "        elif choice == '4':\n",
        "            print(num1, \"/\", num2, \"=\", divide(num1, num2))\n",
        "        next_calculation = input(\"Let's do next calculation? (yes/no): \")\n",
        "        if next_calculation == \"no\":\n",
        "          break\n",
        "    else:\n",
        "        print(\"Invalid Input\")"
      ],
      "metadata": {
        "colab": {
          "base_uri": "https://localhost:8080/"
        },
        "id": "Q3OiREZ6i8ag",
        "outputId": "884f9eab-e44d-4f58-973c-b6d8ff1c1279"
      },
      "execution_count": 2,
      "outputs": [
        {
          "name": "stdout",
          "output_type": "stream",
          "text": [
            "Select operation.\n",
            "1.Add\n",
            "2.Subtract\n",
            "3.Multiply\n",
            "4.Divide\n",
            "Enter choice(1/2/3/4): 1\n",
            "Enter first number: 6\n",
            "Enter second number: 89\n",
            "6.0 + 89.0 = 95.0\n",
            "Let's do next calculation? (yes/no): y\n",
            "Enter choice(1/2/3/4): 4\n",
            "Enter first number: 45\n",
            "Enter second number: 3\n",
            "45.0 / 3.0 = 15.0\n",
            "Let's do next calculation? (yes/no): no\n"
          ]
        }
      ]
    },
    {
      "cell_type": "markdown",
      "source": [
        "# *TASK:2:STUDENT GRADE TRACKER*"
      ],
      "metadata": {
        "id": "U_p3-QxSnKQJ"
      }
    },
    {
      "cell_type": "code",
      "source": [
        " sub1 = int(input(\"Enter marks obtained in subject 1: \"))\n",
        " sub2 = int(input(\"Enter marks obtained in subject 2: \"))\n",
        " sub3 = int(input(\"Enter marks obtained in subject 3: \"))\n",
        " sub4 = int(input(\"Enter marks obtained in subject 4: \"))\n",
        " sub5 = int(input(\"Enter marks obtained in subject 5: \"))\n",
        " avg_marks = (sub1 + sub2 + sub3+sub4+sub5) / 5\n",
        " print(\"Average marks:\", format(avg_marks,'.2f'))\n",
        " if avg_marks >= 90:\n",
        "   print(\"Grade: A\")\n",
        " elif avg_marks >= 80:\n",
        "  print(\"Grade: B\")\n",
        " elif avg_marks >= 70:\n",
        "  print(\"Grade: C\")\n",
        " elif avg_marks >= 60:\n",
        "  print(\"Grade: D\")\n",
        " else:\n",
        "  print(\"Grade: F\")"
      ],
      "metadata": {
        "colab": {
          "base_uri": "https://localhost:8080/"
        },
        "id": "lU1VReI3ifjr",
        "outputId": "68d9ec0d-455d-4602-e873-52acf889c895"
      },
      "execution_count": 21,
      "outputs": [
        {
          "output_type": "stream",
          "name": "stdout",
          "text": [
            "Enter marks obtained in subject 1: 90\n",
            "Enter marks obtained in subject 2: 78\n",
            "Enter marks obtained in subject 3: 83\n",
            "Enter marks obtained in subject 4: 67\n",
            "Enter marks obtained in subject 5: 89\n",
            "Average marks: 81.40\n",
            "Grade: B\n"
          ]
        }
      ]
    },
    {
      "cell_type": "markdown",
      "source": [
        "# *TASK:3:INVENTORY MANAGEMENT SYSTEM*"
      ],
      "metadata": {
        "id": "7YXBIyn9n2B2"
      }
    },
    {
      "cell_type": "code",
      "source": [
        "import json\n",
        "\n",
        "class InventoryManagementSystem:\n",
        "    def __init__(self):\n",
        "        self.inventory = {}\n",
        "        self.load_data()\n",
        "\n",
        "    def load_data(self):\n",
        "        try:\n",
        "            with open(\"inventory_data.json\", \"r\") as file:\n",
        "                self.inventory = json.load(file)\n",
        "        except FileNotFoundError:\n",
        "            print(\"No inventory data found. Starting with an empty inventory.\")\n",
        "\n",
        "    def save_data(self):\n",
        "        with open(\"inventory_data.json\", \"w\") as file:\n",
        "            json.dump(self.inventory, file, indent=4)\n",
        "\n",
        "    def add_product(self, product_id, name, quantity, price):\n",
        "        if product_id not in self.inventory:\n",
        "            self.inventory[product_id] = {\"name\": name, \"quantity\": quantity, \"price\": price}\n",
        "            self.save_data()\n",
        "            print(\"Product added successfully.\")\n",
        "        else:\n",
        "            print(\"Product ID already exists. Use edit_product to modify.\")\n",
        "\n",
        "    def edit_product(self, product_id, new_name, new_quantity, new_price):\n",
        "        if product_id in self.inventory:\n",
        "            self.inventory[product_id][\"name\"] = new_name\n",
        "            self.inventory[product_id][\"quantity\"] = new_quantity\n",
        "            self.inventory[product_id][\"price\"] = new_price\n",
        "            self.save_data()\n",
        "            print(\"Product updated successfully.\")\n",
        "        else:\n",
        "            print(\"Product ID not found.\")\n",
        "\n",
        "    def delete_product(self, product_id):\n",
        "        if product_id in self.inventory:\n",
        "            del self.inventory[product_id]\n",
        "            self.save_data()\n",
        "            print(\"Product deleted successfully.\")\n",
        "        else:\n",
        "            print(\"Product ID not found.\")\n",
        "\n",
        "    def display_inventory(self):\n",
        "        print(\"Inventory:\")\n",
        "        for product_id, details in self.inventory.items():\n",
        "            print(f\"ID: {product_id}, Name: {details['name']}, Quantity: {details['quantity']}, Price: {details['price']}$\")\n",
        "\n",
        "    def generate_low_stock_alert(self, threshold):\n",
        "        low_stock_products = {product_id: details for product_id, details in self.inventory.items() if details[\"quantity\"] < threshold}\n",
        "        if low_stock_products:\n",
        "            print(\"Low Stock Alert:\")\n",
        "            for product_id, details in low_stock_products.items():\n",
        "                print(f\"ID: {product_id}, Name: {details['name']}, Quantity: {details['quantity']}\")\n",
        "        else:\n",
        "            print(\"No products are low in stock.\")\n",
        "\n",
        "    def generate_sales_summary(self):\n",
        "        total_sales = sum([details[\"quantity\"] * details[\"price\"] for details in self.inventory.values()])\n",
        "        print(f\"Total Sales: {total_sales}$\")\n",
        "\n",
        "def main():\n",
        "    ims = InventoryManagementSystem()\n",
        "\n",
        "    while True:\n",
        "        print(\"\\n1. Add Product\")\n",
        "        print(\"2. Edit Product\")\n",
        "        print(\"3. Delete Product\")\n",
        "        print(\"4. Display Inventory\")\n",
        "        print(\"5. Generate Low Stock Alert\")\n",
        "        print(\"6. Generate Sales Summary\")\n",
        "        print(\"7. Exit\")\n",
        "        choice = input(\"\\nEnter your choice: \")\n",
        "\n",
        "        if choice == \"1\":\n",
        "            product_id = input(\"Enter Product ID: \")\n",
        "            name = input(\"Enter Product Name: \")\n",
        "            quantity = int(input(\"Enter Product Quantity: \"))\n",
        "            price = float(input(\"Enter Product Price: \"))\n",
        "            ims.add_product(product_id, name, quantity, price)\n",
        "        elif choice == \"2\":\n",
        "            product_id = input(\"Enter Product ID to edit: \")\n",
        "            name = input(\"Enter New Product Name: \")\n",
        "            quantity = int(input(\"Enter New Product Quantity: \"))\n",
        "            price = float(input(\"Enter New Product Price: \"))\n",
        "            ims.edit_product(product_id, name, quantity, price)\n",
        "        elif choice == \"3\":\n",
        "            product_id = input(\"Enter Product ID to delete: \")\n",
        "            ims.delete_product(product_id)\n",
        "        elif choice == \"4\":\n",
        "            ims.display_inventory()\n",
        "        elif choice == \"5\":\n",
        "            threshold = int(input(\"Enter low stock threshold: \"))\n",
        "            ims.generate_low_stock_alert(threshold)\n",
        "        elif choice == \"6\":\n",
        "            ims.generate_sales_summary()\n",
        "        elif choice == \"7\":\n",
        "            ims.save_data()\n",
        "            print(\"Exiting...\")\n",
        "            break\n",
        "        else:\n",
        "            print(\"Invalid choice. Please try again.\")\n",
        "if __name__ == \"__main__\":\n",
        "    main()\n"
      ],
      "metadata": {
        "colab": {
          "base_uri": "https://localhost:8080/"
        },
        "id": "VKyypqnloPLR",
        "outputId": "7efdc0bd-d78c-4350-be30-1509a18f26c6"
      },
      "execution_count": null,
      "outputs": [
        {
          "output_type": "stream",
          "name": "stdout",
          "text": [
            "No inventory data found. Starting with an empty inventory.\n",
            "\n",
            "1. Add Product\n",
            "2. Edit Product\n",
            "3. Delete Product\n",
            "4. Display Inventory\n",
            "5. Generate Low Stock Alert\n",
            "6. Generate Sales Summary\n",
            "7. Exit\n",
            "\n",
            "Enter your choice: 4\n",
            "Inventory:\n",
            "\n",
            "1. Add Product\n",
            "2. Edit Product\n",
            "3. Delete Product\n",
            "4. Display Inventory\n",
            "5. Generate Low Stock Alert\n",
            "6. Generate Sales Summary\n",
            "7. Exit\n",
            "\n",
            "Enter your choice: 5\n",
            "Enter low stock threshold: 4\n",
            "No products are low in stock.\n",
            "\n",
            "1. Add Product\n",
            "2. Edit Product\n",
            "3. Delete Product\n",
            "4. Display Inventory\n",
            "5. Generate Low Stock Alert\n",
            "6. Generate Sales Summary\n",
            "7. Exit\n"
          ]
        }
      ]
    },
    {
      "cell_type": "markdown",
      "source": [
        "# *TASK:4:LIBRARY MANAGEMENT SYSTEM*"
      ],
      "metadata": {
        "id": "AHlrOcviurIC"
      }
    },
    {
      "cell_type": "markdown",
      "source": [],
      "metadata": {
        "id": "7jjApJXlu5xs"
      }
    },
    {
      "cell_type": "code",
      "source": [
        "import datetime\n",
        "\n",
        "class LibraryItem:\n",
        "    def __init__(self, title, author, category):\n",
        "        self.title = title\n",
        "        self.author = author\n",
        "        self.category = category\n",
        "        self.checked_out = False\n",
        "        self.checkout_date = None\n",
        "        self.return_date = None\n",
        "\n",
        "    def checkout(self):\n",
        "        if not self.checked_out:\n",
        "            self.checked_out = True\n",
        "            self.checkout_date = datetime.date.today()\n",
        "            self.return_date = self.checkout_date + datetime.timedelta(days=14)  # 14 days checkout period\n",
        "            print(\"Item checked out successfully.\")\n",
        "        else:\n",
        "            print(\"Item is already checked out.\")\n",
        "\n",
        "    def return_item(self):\n",
        "        if self.checked_out:\n",
        "            self.checked_out = False\n",
        "            self.checkout_date = None\n",
        "            self.return_date = None\n",
        "            print(\"Item returned successfully.\")\n",
        "        else:\n",
        "            print(\"Item is not checked out.\")\n",
        "\n",
        "    def is_overdue(self):\n",
        "        if self.checked_out and datetime.date.today() > self.return_date:\n",
        "            return True\n",
        "        return False\n",
        "\n",
        "class DVD(LibraryItem):\n",
        "    def __init__(self, title, director):\n",
        "        super().__init__(title, director, \"DVD\")\n",
        "\n",
        "class Magazine(LibraryItem):\n",
        "    def __init__(self, title, publisher):\n",
        "        super().__init__(title, publisher, \"Magazine\")\n",
        "\n",
        "class Book(LibraryItem):\n",
        "    def __init__(self, title, author):\n",
        "        super().__init__(title, author, \"Book\")\n",
        "\n",
        "class Library:\n",
        "    def __init__(self):\n",
        "        self.library_items = []\n",
        "\n",
        "    def add_item(self, item):\n",
        "        self.library_items.append(item)\n",
        "        print(\"Item added to the library.\")\n",
        "\n",
        "    def search_item(self, keyword):\n",
        "        found_items = []\n",
        "        for item in self.library_items:\n",
        "            if keyword.lower() in item.title.lower() or keyword.lower() in item.author.lower() or keyword.lower() in item.category.lower():\n",
        "                found_items.append(item)\n",
        "        return found_items\n",
        "\n",
        "    def display_overdue_items(self):\n",
        "        overdue_items = [item for item in self.library_items if item.is_overdue()]\n",
        "        if overdue_items:\n",
        "            print(\"Overdue Items:\")\n",
        "            for item in overdue_items:\n",
        "                print(f\"Title: {item.title}, Author: {item.author}, Category: {item.category}\")\n",
        "        else:\n",
        "            print(\"No overdue items.\")\n",
        "\n",
        "if __name__ == \"__main__\":\n",
        "    library = Library()\n",
        "\n",
        "    book1 = Book(\"Python Programming\", \"F. Scott Fitzgerald\")\n",
        "    magazine = Magazine(\"National Geographic\", \"Various\")\n",
        "    dvd = DVD(\"Inception\", \"Christopher Nolan\")\n",
        "\n",
        "    library.add_item(book1)\n",
        "    library.add_item(magazine)\n",
        "    library.add_item(dvd)\n",
        "\n",
        "    search_keyword = \"Python Programming\"\n",
        "    found_items = library.search_item(search_keyword)\n",
        "    if found_items:\n",
        "        print(f\"Found {len(found_items)} item(s) matching '{search_keyword}':\")\n",
        "        for item in found_items:\n",
        "            print(f\"Title: {item.title}, Author: {item.author}, Category: {item.category}\")\n",
        "    else:\n",
        "        print(f\"No items found matching '{search_keyword}'.\")\n"
      ],
      "metadata": {
        "colab": {
          "base_uri": "https://localhost:8080/"
        },
        "id": "g6u1quxIwbba",
        "outputId": "9ed96768-c0b6-406d-b7e6-db5641e71b02"
      },
      "execution_count": 19,
      "outputs": [
        {
          "output_type": "stream",
          "name": "stdout",
          "text": [
            "Item added to the library.\n",
            "Item added to the library.\n",
            "Item added to the library.\n",
            "Found 1 item(s) matching 'Python Programming':\n",
            "Title: Python Programming, Author: F. Scott Fitzgerald, Category: Book\n"
          ]
        }
      ]
    },
    {
      "cell_type": "markdown",
      "source": [
        "# *TASK:5:SOCIAL MEDIA PLATFORM*"
      ],
      "metadata": {
        "id": "fUs16uq9yVJ0"
      }
    },
    {
      "cell_type": "code",
      "source": [
        "import time\n",
        "import random\n",
        "class User:\n",
        "    def __init__(self, username, email):\n",
        "        self.username = username\n",
        "        self.email = email\n",
        "        self.friends = []\n",
        "        self.notifications = []\n",
        "\n",
        "    def send_message(self, friend, message):\n",
        "        friend.recieve_message(self, message)\n",
        "\n",
        "    def recieve_message(self, sender, message):\n",
        "        print(f\"{sender.username} says: {message}\")\n",
        "        self.notifications.append(f\"{sender.username} sent you a message\")\n",
        "\n",
        "    def view_notification(self):\n",
        "        for notification in self.notifications:\n",
        "          print(notification)\n",
        "        self.notifications = []\n",
        "\n",
        "class SocialNetwork:\n",
        "    def _init_(self):\n",
        "        self.users = []\n",
        "\n",
        "    def register_user(self, username, email):\n",
        "        user = User(username, email)\n",
        "        self.users.append(user)\n",
        "        print(f\"Welcome, {username} You have sucessfully registered.\")\n",
        "\n",
        "    def connect_friends(self, user1, user2):\n",
        "        user1.add_friend(user2)\n",
        "        user2.add_friend(user1)\n",
        "\n",
        "    def send_random_message(self):\n",
        "        while True:\n",
        "            if len(self.users) < 2 :\n",
        "              print(\"Not enough users to send messages.\")\n",
        "              break\n",
        "            sender = random.choice(self.users)\n",
        "            receiver = random.choice(self.users)\n",
        "            if sender != receiver:\n",
        "               message = f\"Random message from {sender.username}.\"\n",
        "               sender.send_message(receiver, message)\n",
        "               time.sleep(random.randint(1 , 5))\n",
        "if __name__ == \"_main_\" :\n",
        "   social_network = SocialNetwork()\n",
        "   social_network.register_user(\"Alice\", \"alice@example.com\")\n",
        "   social_network.register_user(\"Bob\", \"bob@example.com\")\n",
        "   social_network.register_user(\"Charle\", \"charle@example.com\")\n",
        "   social_network.connect_friends(social_network.users[0], social_network.users[1])\n",
        "   social_network.connect_friends(social_network.users[0], social_network.users[2])\n",
        "   for user in social_network.users:\n",
        "       print(f\"\\nNotifications for  {user.username}:\")\n",
        "       user.view_notifications()\n",
        "\n",
        "\n",
        "\n",
        "\n"
      ],
      "metadata": {
        "id": "MDv1zSyZyesH"
      },
      "execution_count": 22,
      "outputs": []
    },
    {
      "cell_type": "markdown",
      "source": [
        "# *TASK:6:ONLINE MARKETPLACE*"
      ],
      "metadata": {
        "id": "2ELoiYCXBLlC"
      }
    },
    {
      "cell_type": "code",
      "source": [
        "import uuid\n",
        "import datetime\n",
        "\n",
        "users = {}\n",
        "products = {}\n",
        "\n",
        "class User:\n",
        "    def __init__(self, username, email, password):\n",
        "        self.username = username\n",
        "        self.email = email\n",
        "        self.password = password\n",
        "        self.id = uuid.uuid4().hex\n",
        "        self.registered_at = datetime.datetime.now()\n",
        "\n",
        "    def __repr__(self):\n",
        "        return f\"User(username={self.username}, email={self.email})\"\n",
        "\n",
        "class Product:\n",
        "    def __init__(self, name, description, price, seller):\n",
        "        self.name = name\n",
        "        self.description = description\n",
        "        self.price = price\n",
        "        self.seller = seller\n",
        "        self.id = uuid.uuid4().hex\n",
        "        self.created_at = datetime.datetime.now()\n",
        "\n",
        "    def __repr__(self):\n",
        "        return f\"Product(name={self.name}, price={self.price}, seller={self.seller})\"\n",
        "\n",
        "def register_user(username, email, password):\n",
        "    if email in users:\n",
        "        return \"Email already registered. Please use a different email.\"\n",
        "    user = User(username, email, password)\n",
        "    users[email] = user\n",
        "    return \"Registration successful. Please log in.\"\n",
        "\n",
        "def login_user(email, password):\n",
        "    if email in users:\n",
        "        user = users[email]\n",
        "        if user.password == password:\n",
        "            return user\n",
        "        else:\n",
        "            return \"Incorrect password. Please try again.\"\n",
        "    else:\n",
        "        return \"User not found. Please register.\"\n",
        "\n",
        "def add_product(name, description, price, seller):\n",
        "    product = Product(name, description, price, seller)\n",
        "    products[product.id] = product\n",
        "    return \"Product added successfully.\"\n",
        "\n",
        "def search_products(keyword):\n",
        "    results = []\n",
        "    for product in products.values():\n",
        "        if keyword.lower() in product.name.lower() or keyword.lower() in product.description.lower():\n",
        "            results.append(product)\n",
        "    return results\n",
        "\n",
        "if __name__ == \"__main__\":\n",
        "\n",
        "    print(register_user(\"Alice\", \"alice@example.com\", \"password123\"))\n",
        "    print(register_user(\"Bob\", \"bob@example.com\", \"securepassword\"))\n",
        "\n",
        "    user = login_user(\"alice@example.com\", \"password123\")\n",
        "    if isinstance(user, User):\n",
        "        print(f\"Logged in as {user.username}\")\n",
        "    else:\n",
        "        print(user)\n",
        "\n",
        "    print(add_product(\"iPhone 13\", \"Brand new iPhone 13\", 999.99, user.username))\n",
        "    print(add_product(\"MacBook Pro\", \"High-performance laptop\", 1499.99, user.username))\n",
        "\n",
        "    results = search_products(\"iphone\")\n",
        "    print(\"Search results:\")\n",
        "    for product in results:\n",
        "        print(product)\n"
      ],
      "metadata": {
        "colab": {
          "base_uri": "https://localhost:8080/"
        },
        "id": "GH2V2DvlBSwv",
        "outputId": "6ec1a71d-97d5-497c-ae36-3108bc1b5603"
      },
      "execution_count": 20,
      "outputs": [
        {
          "output_type": "stream",
          "name": "stdout",
          "text": [
            "Registration successful. Please log in.\n",
            "Registration successful. Please log in.\n",
            "Logged in as Alice\n",
            "Product added successfully.\n",
            "Product added successfully.\n",
            "Search results:\n",
            "Product(name=iPhone 13, price=999.99, seller=Alice)\n"
          ]
        }
      ]
    }
  ]
}